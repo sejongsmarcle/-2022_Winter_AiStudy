{
  "nbformat": 4,
  "nbformat_minor": 0,
  "metadata": {
    "colab": {
      "name": "1회차_실습 1.ipynb",
      "provenance": [],
      "collapsed_sections": []
    },
    "kernelspec": {
      "name": "python3",
      "display_name": "Python 3"
    },
    "language_info": {
      "name": "python"
    }
  },
  "cells": [
    {
      "cell_type": "markdown",
      "source": [
        "# 스클이와 마클이의 선형회귀"
      ],
      "metadata": {
        "id": "ea-HoWm0QIN1"
      }
    },
    {
      "cell_type": "code",
      "execution_count": 1,
      "metadata": {
        "id": "2kizi-1fP_FR"
      },
      "outputs": [],
      "source": [
        "import numpy as np\n",
        "import matplotlib.pyplot as plt"
      ]
    },
    {
      "cell_type": "code",
      "source": [
        "scle = [-400, 7000] # y = -400x + 7000\n",
        "macle = [-420, 6000] #y = -420x + 6000\n",
        "\n",
        "data = [[3, 5580], [5, 2984], [7, 2446], [9, 2906]] # [month, search_volume] \n",
        "\n",
        "x = [i[0] for i in data]\n",
        "y = [i[1] for i in data]"
      ],
      "metadata": {
        "id": "_S8vAjjrQTNO"
      },
      "execution_count": 2,
      "outputs": []
    },
    {
      "cell_type": "code",
      "source": [
        "def func(a, b, x):\n",
        "  return (a * x + b)"
      ],
      "metadata": {
        "id": "sbTJnYyoUZs-"
      },
      "execution_count": 18,
      "outputs": []
    },
    {
      "cell_type": "code",
      "source": [
        "plt.plot(x, [func(scle[0], scle[1], i) for i in x])\n",
        "plt.plot(x, [func(macle[0], macle[1], i) for i in x])\n",
        "plt.plot(x, y, '^')\n",
        "plt.xlabel('month')\n",
        "plt.ylabel('search_volume')\n",
        "plt.title('imfo_mask')\n",
        "plt.legend(['scle', 'macle', 'y'])\n",
        "plt.show()"
      ],
      "metadata": {
        "colab": {
          "base_uri": "https://localhost:8080/",
          "height": 295
        },
        "id": "0R2lL4EvQ9FU",
        "outputId": "89ea128f-7af9-43c7-e238-e55e360b1166"
      },
      "execution_count": 51,
      "outputs": [
        {
          "output_type": "display_data",
          "data": {
            "image/png": "[encoded data removed]",
            "text/plain": [
              "<Figure size 432x288 with 1 Axes>"
            ]
          },
          "metadata": {
            "needs_background": "light"
          }
        }
      ]
    },
    {
      "cell_type": "code",
      "source": [
        "def mse(y, y_hat):\n",
        "  return ((y - y_hat) ** 2).mean()\n",
        "\n",
        "def mse_val(y, predict_result):\n",
        "  return mse(np.array(y), np.array(predict_result))"
      ],
      "metadata": {
        "id": "TpyzDzhRR3Oi"
      },
      "execution_count": 5,
      "outputs": []
    },
    {
      "cell_type": "code",
      "source": [
        "def test_result(a, b, x):\n",
        "  predict_result = []\n",
        "\n",
        "  for i in range(len(x)):\n",
        "    predict_result.append(func(a, b, x[i]))\n",
        "    print('{}월 검색량 = {}, 예상 검색량 = {}'.format(x[i], y[i], func(a, b, x[i])))\n",
        "  return predict_result\n"
      ],
      "metadata": {
        "id": "LDnJd5VBWoKZ"
      },
      "execution_count": 40,
      "outputs": []
    },
    {
      "cell_type": "code",
      "source": [
        "print('scle')\n",
        "y_scle = test_result(scle[0], scle[1], x) \n",
        "print('\\nmacle')\n",
        "y_macle = test_result(macle[0], macle[1], x)\n",
        "print()\n"
      ],
      "metadata": {
        "colab": {
          "base_uri": "https://localhost:8080/"
        },
        "id": "0TTT0yqOY3iI",
        "outputId": "8f73fe88-2831-4dbf-a02e-4ebda70b8f89"
      },
      "execution_count": 54,
      "outputs": [
        {
          "output_type": "stream",
          "name": "stdout",
          "text": [
            "scle\n",
            "3월 검색량 = 5580, 예상 검색량 = 5800\n",
            "5월 검색량 = 2984, 예상 검색량 = 5000\n",
            "7월 검색량 = 2446, 예상 검색량 = 4200\n",
            "9월 검색량 = 2906, 예상 검색량 = 3400\n",
            "\n",
            "macle\n",
            "3월 검색량 = 5580, 예상 검색량 = 4740\n",
            "5월 검색량 = 2984, 예상 검색량 = 3900\n",
            "7월 검색량 = 2446, 예상 검색량 = 3060\n",
            "9월 검색량 = 2906, 예상 검색량 = 2220\n",
            "\n"
          ]
        }
      ]
    },
    {
      "cell_type": "code",
      "source": [
        "print('scle', '{}'.format(mse_val(y, y_scle)))\n",
        "print(y_scle)\n",
        "print('macle', '{}'.format(mse_val(y, y_macle)))\n",
        "print(y_macle)\n"
      ],
      "metadata": {
        "id": "cS2X3VK4ZALO",
        "colab": {
          "base_uri": "https://localhost:8080/"
        },
        "outputId": "9ee5613c-addc-4546-a742-45da8ec5cd7c"
      },
      "execution_count": 78,
      "outputs": [
        {
          "output_type": "stream",
          "name": "stdout",
          "text": [
            "scle 1858302.0\n",
            "[5800, 5000, 4200, 3400]\n",
            "macle 598062.0\n",
            "[4740, 3900, 3060, 2220]\n"
          ]
        }
      ]
    },
    {
      "cell_type": "code",
      "source": [
        "mx = np.mean(x)\n",
        "my = np.mean(y_macle)\n",
        "\n",
        "\n",
        "divisor = sum([(i - mx)**2 for i in x])\n",
        "#dividend = sum(list(((x[i] - mx) * (y_macle[i] - my)) for i in range(len(x))))\n",
        "def top(x, mx, y, my):\n",
        "  d = 0\n",
        "  for i in range(len(x)):\n",
        "    d += (x[i] - mx) * (y[i] - my)\n",
        "  return d\n",
        "\n",
        "dividend = top(x, mx, y, my)\n",
        "\n",
        "print('분자:', dividend)\n",
        "print('분모:',divisor)\n"
      ],
      "metadata": {
        "colab": {
          "base_uri": "https://localhost:8080/"
        },
        "id": "TPZOS4VqbwZt",
        "outputId": "7e29071f-0fab-4644-bd54-3d9af7135b29"
      },
      "execution_count": 100,
      "outputs": [
        {
          "output_type": "stream",
          "name": "stdout",
          "text": [
            "분자: -8560.0\n",
            "분모: 20.0\n"
          ]
        }
      ]
    },
    {
      "cell_type": "code",
      "source": [
        "a = dividend / divisor\n",
        "b = my - mx * a\n",
        "\n",
        "print('y = %.fx + %.f' %(a, b)) #function of optimizer"
      ],
      "metadata": {
        "colab": {
          "base_uri": "https://localhost:8080/"
        },
        "id": "LCbpeUUgghfN",
        "outputId": "9996b249-929b-4242-b294-47e989abc8c7"
      },
      "execution_count": 90,
      "outputs": [
        {
          "output_type": "stream",
          "name": "stdout",
          "text": [
            "y = -428x + 6048\n"
          ]
        }
      ]
    },
    {
      "cell_type": "code",
      "source": [
        "\n",
        "\n",
        "plt.plot(x, [func(macle[0], macle[1], i) for i in x]) #macle\n",
        "plt.plot(x, [func(a, b, i) for i in x], '--') #optimizer\n",
        "plt.xlabel('month')\n",
        "plt.ylabel('search_volume')\n",
        "plt.title('imfo_mask')\n",
        "plt.legend(['macle', 'opti'])\n",
        "plt.show()\n",
        "                    "
      ],
      "metadata": {
        "colab": {
          "base_uri": "https://localhost:8080/",
          "height": 295
        },
        "id": "D4C-yy7G05Ol",
        "outputId": "d7d44abb-39ca-4579-e1eb-388ef2b79515"
      },
      "execution_count": 96,
      "outputs": [
        {
          "output_type": "display_data",
          "data": {
            "image/png": "[encoded data removed]",
            "text/plain": [
              "<Figure size 432x288 with 1 Axes>"
            ]
          },
          "metadata": {
            "needs_background": "light"
          }
        }
      ]
    }
  ]
}