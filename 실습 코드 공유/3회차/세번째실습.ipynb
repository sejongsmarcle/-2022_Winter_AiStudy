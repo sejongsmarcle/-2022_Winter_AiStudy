{
  "nbformat": 4,
  "nbformat_minor": 0,
  "metadata": {
    "colab": {
      "name": "5장 로지스틱 회귀.ipynb",
      "provenance": [],
      "authorship_tag": "ABX9TyOSJidaKg3rAu5ptzQvHb2v",
      "include_colab_link": true
    },
    "kernelspec": {
      "name": "python3",
      "display_name": "Python 3"
    },
    "language_info": {
      "name": "python"
    }
  },
  "cells": [
    {
      "cell_type": "markdown",
      "metadata": {
        "id": "view-in-github",
        "colab_type": "text"
      },
      "source": [
        "<a href=\"https://colab.research.google.com/github/RyuJungSoo/2022_winter_aistudy/blob/main/5%EC%9E%A5_%EB%A1%9C%EC%A7%80%EC%8A%A4%ED%8B%B1_%ED%9A%8C%EA%B7%80.ipynb\" target=\"_parent\"><img src=\"https://colab.research.google.com/assets/colab-badge.svg\" alt=\"Open In Colab\"/></a>"
      ]
    },
    {
      "cell_type": "code",
      "execution_count": 1,
      "metadata": {
        "id": "SyeyqVpubEIp"
      },
      "outputs": [],
      "source": [
        "import numpy as np\n",
        "import pandas as pd\n",
        "import matplotlib.pyplot as plt"
      ]
    },
    {
      "cell_type": "code",
      "source": [
        "# 공부 시간 X와 합격 여부 Y의 리스트 만들기\n",
        "data = [[2,0],[4,0],[6,0],[8,1],[10,1],[12,1],[14,1]]\n",
        "\n",
        "x_data = [i[0] for i in data] # 공부한 시간 데이터\n",
        "y_data = [i[1] for i in data] # 합격 여부\n",
        "\n",
        "print(x_data)\n",
        "print(y_data)"
      ],
      "metadata": {
        "colab": {
          "base_uri": "https://localhost:8080/"
        },
        "id": "gvZHV4h9bQml",
        "outputId": "b8346394-140d-4919-972a-fe42ce9f7fc4"
      },
      "execution_count": 2,
      "outputs": [
        {
          "output_type": "stream",
          "name": "stdout",
          "text": [
            "[2, 4, 6, 8, 10, 12, 14]\n",
            "[0, 0, 0, 1, 1, 1, 1]\n"
          ]
        }
      ]
    },
    {
      "cell_type": "code",
      "source": [
        "# 그래프로 나타내기\n",
        "plt.scatter(x_data, y_data) # 산점도 그리기\n",
        "plt.xlim(0,15) # x축 범위 지정\n",
        "plt.ylim(-.1,1.1) # y축 범위 지정"
      ],
      "metadata": {
        "colab": {
          "base_uri": "https://localhost:8080/",
          "height": 283
        },
        "id": "1YHjIv6Gbi_b",
        "outputId": "60261412-e9b7-4cc0-dbd7-6d8ff8ef0204"
      },
      "execution_count": 3,
      "outputs": [
        {
          "output_type": "execute_result",
          "data": {
            "text/plain": [
              "(-0.1, 1.1)"
            ]
          },
          "metadata": {},
          "execution_count": 3
        },
        {
          "output_type": "display_data",
          "data": {
            "image/png": "[encoded data removed]",
            "text/plain": [
              "<Figure size 432x288 with 1 Axes>"
            ]
          },
          "metadata": {
            "needs_background": "light"
          }
        }
      ]
    },
    {
      "cell_type": "code",
      "source": [
        "# 기울기 a와 절편 b의 값 초기화\n",
        "a = 0\n",
        "b = 0"
      ],
      "metadata": {
        "id": "5lBRxC3xd7Bu"
      },
      "execution_count": 4,
      "outputs": []
    },
    {
      "cell_type": "code",
      "source": [
        "# 학습률\n",
        "lr = 0.05"
      ],
      "metadata": {
        "id": "iz1iP9sneAij"
      },
      "execution_count": 5,
      "outputs": []
    },
    {
      "cell_type": "code",
      "source": [
        "#시그모이드 함수를 정의\n",
        "def sigmoid(x): # sigmoid라는 이름의 함수 정의\n",
        "    return 1 / (1 + np.e ** (-x)) # 시그모이드 식의 형태 그대로 파이썬으로 옮김"
      ],
      "metadata": {
        "id": "otl7ZZ-MeEF0"
      },
      "execution_count": 6,
      "outputs": []
    },
    {
      "cell_type": "code",
      "source": [
        "# 경사 하강법 실행\n",
        "for i in range(2001):\n",
        "  for x_data, y_data in data:\n",
        "    # a에 관한 편미분. 앞서 정의한 sigmoid 함수 사용\n",
        "    a_diff = x_data*(sigmoid(a*x_data+b) - y_data)\n",
        "    # b에 관한 편미분\n",
        "    b_diff = sigmoid(a * x_data + b) - y_data\n",
        "    # a를 업데이트 하기 위해 a - diff에 학습률 lr을 곱한 값을 a에서 뺌\n",
        "    a = a - lr * a_diff\n",
        "    # b를 업데이트 하기 위해 b - diff에 학습률 lr을 곱한 값을 b에서 뺌\n",
        "    b = b - lr * b_diff\n",
        "    if i % 1000 == 0:   # 1000번 반복될 때마다 각 x_data 값에 대한 현재의 a 값, b 값 출력\n",
        "      print(\"epoch = %.f, 기울기 = %.04f, 절편 = %.04f\" % (i,a,b))"
      ],
      "metadata": {
        "colab": {
          "base_uri": "https://localhost:8080/"
        },
        "id": "l6uLieyUeRns",
        "outputId": "2f3ee316-ec64-477c-fc9f-3a98b08bce27"
      },
      "execution_count": 7,
      "outputs": [
        {
          "output_type": "stream",
          "name": "stdout",
          "text": [
            "epoch = 0, 기울기 = -0.0500, 절편 = -0.0250\n",
            "epoch = 0, 기울기 = -0.1388, 절편 = -0.0472\n",
            "epoch = 0, 기울기 = -0.2268, 절편 = -0.0619\n",
            "epoch = 0, 기울기 = 0.1201, 절편 = -0.0185\n",
            "epoch = 0, 기울기 = 0.2374, 절편 = -0.0068\n",
            "epoch = 0, 기울기 = 0.2705, 절편 = -0.0040\n",
            "epoch = 0, 기울기 = 0.2860, 절편 = -0.0029\n",
            "epoch = 1000, 기울기 = 1.4978, 절편 = -9.9401\n",
            "epoch = 1000, 기울기 = 1.4940, 절편 = -9.9411\n",
            "epoch = 1000, 기울기 = 1.4120, 절편 = -9.9547\n",
            "epoch = 1000, 기울기 = 1.4949, 절편 = -9.9444\n",
            "epoch = 1000, 기울기 = 1.4982, 절편 = -9.9440\n",
            "epoch = 1000, 기울기 = 1.4984, 절편 = -9.9440\n",
            "epoch = 1000, 기울기 = 1.4985, 절편 = -9.9440\n",
            "epoch = 2000, 기울기 = 1.9065, 절편 = -12.9489\n",
            "epoch = 2000, 기울기 = 1.9055, 절편 = -12.9491\n",
            "epoch = 2000, 기울기 = 1.8515, 절편 = -12.9581\n",
            "epoch = 2000, 기울기 = 1.9057, 절편 = -12.9514\n",
            "epoch = 2000, 기울기 = 1.9068, 절편 = -12.9513\n",
            "epoch = 2000, 기울기 = 1.9068, 절편 = -12.9513\n",
            "epoch = 2000, 기울기 = 1.9068, 절편 = -12.9513\n"
          ]
        }
      ]
    },
    {
      "cell_type": "code",
      "source": [
        "# 앞서 구한 기울기와 절편을 이용해 그래프를 그려 봅니다.\n",
        "x_data = [i[0] for i in data]\n",
        "y_data = [i[1] for i in data]\n",
        "plt.scatter(x_data, y_data) # 산점도 그리기\n",
        "plt.xlim(0, 15) \n",
        "plt.ylim(-.1, 1.1)\n",
        "x_range = (np.arange(0, 15, 0.1)) #그래프로 나타낼 x값의 범위를 정합니다.  np.arange(0, 15, 0.1) -> 반열린구간 [0, 15) 에서 0.1 의 크기만큼 일정하게 떨어져 있는 숫자들의 배열을 나타냄\n",
        "plt.plot(np.arange(0, 15, 0.1), np.array([sigmoid(a*x + b) for x in x_range]))\n",
        "\n",
        "plt.show()\n"
      ],
      "metadata": {
        "colab": {
          "base_uri": "https://localhost:8080/",
          "height": 265
        },
        "id": "epri4zschLoF",
        "outputId": "18983fd0-8bda-4af4-99e1-99a47b7ffe09"
      },
      "execution_count": 11,
      "outputs": [
        {
          "output_type": "display_data",
          "data": {
            "image/png": "[encoded data removed]",
            "text/plain": [
              "<Figure size 432x288 with 1 Axes>"
            ]
          },
          "metadata": {
            "needs_background": "light"
          }
        }
      ]
    }
  ]
}
