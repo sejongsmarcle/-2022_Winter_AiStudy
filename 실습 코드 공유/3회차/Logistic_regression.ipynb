{
 "cells": [
  {
   "cell_type": "code",
   "execution_count": 1,
   "id": "93d34f11",
   "metadata": {},
   "outputs": [],
   "source": [
    "import numpy as np\n",
    "import pandas as pd\n",
    "import matplotlib.pyplot as plt"
   ]
  },
  {
   "cell_type": "code",
   "execution_count": 2,
   "id": "2919d984",
   "metadata": {},
   "outputs": [],
   "source": [
    "# 공부 시간 x와 합격 여부 y의 리스트 만들기 (1: 합격, 0: 불합격)\n",
    "data = [[2,0],[4,0],[6,0],[8,1],[10,1],[12,1],[14,1]]\n",
    "\n",
    "x_data = [i[0] for i in data]\n",
    "y_data = [i[1] for i in data]"
   ]
  },
  {
   "cell_type": "code",
   "execution_count": 3,
   "id": "814f462c",
   "metadata": {},
   "outputs": [
    {
     "data": {
      "text/plain": [
       "(-0.1, 1.1)"
      ]
     },
     "execution_count": 3,
     "metadata": {},
     "output_type": "execute_result"
    },
    {
     "data": {
      "image/png": "[encoded data removed]",
      "text/plain": [
       "<Figure size 432x288 with 1 Axes>"
      ]
     },
     "metadata": {
      "needs_background": "light"
     },
     "output_type": "display_data"
    }
   ],
   "source": [
    "# 그래프로 나타내기\n",
    "plt.scatter(x_data,y_data)\n",
    "plt.xlim(0,15)\n",
    "plt.ylim(-.1,1.1)"
   ]
  },
  {
   "cell_type": "code",
   "execution_count": 4,
   "id": "16a75839",
   "metadata": {},
   "outputs": [],
   "source": [
    "# 기울기 a와 절편 b의 값 초기화\n",
    "a = 0\n",
    "b = 0"
   ]
  },
  {
   "cell_type": "code",
   "execution_count": 5,
   "id": "38a4d6e4",
   "metadata": {},
   "outputs": [],
   "source": [
    "# 학습률\n",
    "lr = 0.05"
   ]
  },
  {
   "cell_type": "code",
   "execution_count": 6,
   "id": "3c1017af",
   "metadata": {},
   "outputs": [],
   "source": [
    "# 시그모이드 함수 정의\n",
    "def sigmoid(x):\n",
    "    return 1/ (1+np.e**(-x))"
   ]
  },
  {
   "cell_type": "code",
   "execution_count": 7,
   "id": "5f04a82e",
   "metadata": {},
   "outputs": [
    {
     "name": "stdout",
     "output_type": "stream",
     "text": [
      "epoch=0, 기울기 =-0.0500, 절편 =-0.0250\n",
      "epoch=0, 기울기 =-0.1388, 절편 =-0.0472\n",
      "epoch=0, 기울기 =-0.2268, 절편 =-0.0619\n",
      "epoch=0, 기울기 =0.1201, 절편 =-0.0185\n",
      "epoch=0, 기울기 =0.2374, 절편 =-0.0068\n",
      "epoch=0, 기울기 =0.2705, 절편 =-0.0040\n",
      "epoch=0, 기울기 =0.2860, 절편 =-0.0029\n",
      "epoch=1000, 기울기 =1.4978, 절편 =-9.9401\n",
      "epoch=1000, 기울기 =1.4940, 절편 =-9.9411\n",
      "epoch=1000, 기울기 =1.4120, 절편 =-9.9547\n",
      "epoch=1000, 기울기 =1.4949, 절편 =-9.9444\n",
      "epoch=1000, 기울기 =1.4982, 절편 =-9.9440\n",
      "epoch=1000, 기울기 =1.4984, 절편 =-9.9440\n",
      "epoch=1000, 기울기 =1.4985, 절편 =-9.9440\n",
      "epoch=2000, 기울기 =1.9065, 절편 =-12.9489\n",
      "epoch=2000, 기울기 =1.9055, 절편 =-12.9491\n",
      "epoch=2000, 기울기 =1.8515, 절편 =-12.9581\n",
      "epoch=2000, 기울기 =1.9057, 절편 =-12.9514\n",
      "epoch=2000, 기울기 =1.9068, 절편 =-12.9513\n",
      "epoch=2000, 기울기 =1.9068, 절편 =-12.9513\n",
      "epoch=2000, 기울기 =1.9068, 절편 =-12.9513\n"
     ]
    }
   ],
   "source": [
    "# 경사하강법 실행\n",
    "# 1000번 반복될 때마다 각 x_data 값에 대한 현재의 a값, b값 출력\n",
    "for i in range(2001): # 2000번\n",
    "    for x_data, y_data in data:\n",
    "        a_diff = x_data*(sigmoid(a*x_data+b)-y_data)\n",
    "        b_diff = sigmoid(a*x_data + b) - y_data\n",
    "        a = a -lr*a_diff\n",
    "        b = b - lr*b_diff\n",
    "        if i%1000 == 0:\n",
    "            print(\"epoch=%.f, 기울기 =%.04f, 절편 =%.04f\" %(i,a,b))\n",
    "            "
   ]
  },
  {
   "cell_type": "code",
   "execution_count": 8,
   "id": "76bb767f",
   "metadata": {},
   "outputs": [
    {
     "data": {
      "image/png": "[encoded data removed]",
      "text/plain": [
       "<Figure size 432x288 with 1 Axes>"
      ]
     },
     "metadata": {
      "needs_background": "light"
     },
     "output_type": "display_data"
    }
   ],
   "source": [
    "# 앞써 구한 기울기와 절편을 이용해 그래프 그리기\n",
    "plt.scatter(x_data,y_data)\n",
    "plt.xlim(0,15)\n",
    "plt.ylim(-.1,1.1)\n",
    "x_range = (np.arange(0,15,0.1))\n",
    "plt.plot(np.arange(0,15,0.1), np.array([sigmoid(a*x+b) for x in x_range]))\n",
    "plt.show()"
   ]
  },
  {
   "cell_type": "code",
   "execution_count": null,
   "id": "9653a95c",
   "metadata": {},
   "outputs": [],
   "source": []
  }
 ],
 "metadata": {
  "kernelspec": {
   "display_name": "Python 3",
   "language": "python",
   "name": "python3"
  },
  "language_info": {
   "codemirror_mode": {
    "name": "ipython",
    "version": 3
   },
   "file_extension": ".py",
   "mimetype": "text/x-python",
   "name": "python",
   "nbconvert_exporter": "python",
   "pygments_lexer": "ipython3",
   "version": "3.8.8"
  }
 },
 "nbformat": 4,
 "nbformat_minor": 5
}
