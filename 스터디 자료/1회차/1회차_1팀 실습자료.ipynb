{
  "cells": [
    {
      "cell_type": "markdown",
      "id": "8f831844",
      "metadata": {
        "id": "8f831844"
      },
      "source": [
        "## 아래는 코로나 19 발생 후 5개월 간 온라인에서 '코로나', '마스크' 등 코로나 관련된 키워드로 검색된 횟수를 나타낸 표이다. 아래 표를 토대로 월에 따른 정보량을 예측하려고 한다.\n",
        "![image.png](clone-test/download.png)\n",
        "\n",
        "### 이 표를 보고 두 사람이 선형회귀 예측을 진행했다.\n",
        "\n",
        "### 스클: y = -400x + 7000\n",
        "### 마클: y = -420x + 6000\n",
        "\n",
        "### 두 사람 중 오차가 적은 방정식을 제시한 사람을 찾고, 최소제곱법을 사용해 최적의 선형회귀 방정식을 제시해 보자.\n"
      ]
    },
    {
      "cell_type": "code",
      "execution_count": null,
      "id": "b89b2698",
      "metadata": {
        "id": "b89b2698"
      },
      "outputs": [],
      "source": [
        "import numpy as np"
      ]
    },
    {
      "cell_type": "code",
      "execution_count": null,
      "id": "1b9cc151",
      "metadata": {
        "id": "1b9cc151"
      },
      "outputs": [],
      "source": [
        "# 스클과 마클의 오차 파악하기\n",
        "scle = [-400, 7000]\n",
        "macle = [-420, 6000]"
      ]
    },
    {
      "cell_type": "code",
      "execution_count": null,
      "id": "f93f88b3",
      "metadata": {
        "id": "f93f88b3"
      },
      "outputs": [],
      "source": [
        "# 데이터 리스트 선언 data = [[x,y], ...]\n",
        "data = [[3,5580],[5,2984],[7,2446],[9,2906]]\n",
        "# x와 y 리스트 선언\n",
        "x = [i[0] for i in data]\n",
        "y = [i[1] for i in data]"
      ]
    },
    {
      "cell_type": "code",
      "execution_count": null,
      "id": "12825292",
      "metadata": {
        "id": "12825292"
      },
      "outputs": [],
      "source": [
        "# 일차 방정식 y = ax + b 구현\n",
        "def p_scle(x):\n",
        "    return scle[0]*x + scle[1]\n",
        "def p_macle(x):\n",
        "    return macle[0]*x + macle[1]"
      ]
    },
    {
      "cell_type": "code",
      "execution_count": null,
      "id": "34ac8a67",
      "metadata": {
        "id": "34ac8a67"
      },
      "outputs": [],
      "source": [
        "# 평균 제곱 오차 계산 함수 정의\n",
        "def mse(y,y_hat):\n",
        "    return (((y-y_hat) ** 2).mean())"
      ]
    },
    {
      "cell_type": "code",
      "execution_count": null,
      "id": "46b1666b",
      "metadata": {
        "id": "46b1666b"
      },
      "outputs": [],
      "source": [
        "# 최종값을 구하는 mse_val() 함수 정의\n",
        "def mse_val(y,predict_result):\n",
        "    return mse(np.array(y),np.array(predict_result))"
      ]
    },
    {
      "cell_type": "code",
      "execution_count": null,
      "id": "da9f79e2",
      "metadata": {
        "id": "da9f79e2"
      },
      "outputs": [],
      "source": [
        "# 예측 값이 들어갈 빈 리스트\n",
        "predict_result_s = []\n",
        "predict_result_ma = []"
      ]
    },
    {
      "cell_type": "code",
      "execution_count": null,
      "id": "a4c19a88",
      "metadata": {
        "scrolled": true,
        "id": "a4c19a88",
        "outputId": "8b43fdfa-22c6-483b-e93b-af9deb3ec2a4"
      },
      "outputs": [
        {
          "name": "stdout",
          "output_type": "stream",
          "text": [
            "월=3, 정보량=5580, 예측 정보량=5800\n",
            "월=5, 정보량=2984, 예측 정보량=5000\n",
            "월=7, 정보량=2446, 예측 정보량=4200\n",
            "월=9, 정보량=2906, 예측 정보량=3400\n"
          ]
        }
      ],
      "source": [
        "# 모든 x의 값을 한 번씩 대입 => predict_result 리스트 완성\n",
        "for i in range(len(x)):\n",
        "    predict_result_s.append(p_scle(x[i]))\n",
        "    print(\"월=%.f, 정보량=%.f, 예측 정보량=%.f\" %(x[i],y[i],p_scle(x[i])))"
      ]
    },
    {
      "cell_type": "code",
      "execution_count": null,
      "id": "b9cc28ef",
      "metadata": {
        "scrolled": true,
        "id": "b9cc28ef",
        "outputId": "8e0796d8-d2d1-4bdc-f641-3bc651dab95e"
      },
      "outputs": [
        {
          "name": "stdout",
          "output_type": "stream",
          "text": [
            "월=3, 정보량=5580, 예측 정보량=4740\n",
            "월=5, 정보량=2984, 예측 정보량=3900\n",
            "월=7, 정보량=2446, 예측 정보량=3060\n",
            "월=9, 정보량=2906, 예측 정보량=2220\n"
          ]
        }
      ],
      "source": [
        "# 모든 x의 값을 한 번씩 대입 => predict_result 리스트 완성\n",
        "for i in range(len(x)):\n",
        "    predict_result_ma.append(p_macle(x[i]))    \n",
        "    print(\"월=%.f, 정보량=%.f, 예측 정보량=%.f\" %(x[i],y[i],p_macle(x[i])))"
      ]
    },
    {
      "cell_type": "code",
      "execution_count": null,
      "id": "12dca446",
      "metadata": {
        "id": "12dca446",
        "outputId": "cd6da610-bd3e-44df-d327-09a62043d380"
      },
      "outputs": [
        {
          "name": "stdout",
          "output_type": "stream",
          "text": [
            "[5800, 5000, 4200, 3400]\n",
            "[4740, 3900, 3060, 2220]\n"
          ]
        }
      ],
      "source": [
        "print(predict_result_s)\n",
        "print(predict_result_ma)"
      ]
    },
    {
      "cell_type": "code",
      "execution_count": null,
      "id": "aab1ec34",
      "metadata": {
        "id": "aab1ec34",
        "outputId": "1bcf093b-0972-476c-c898-f495dee77467"
      },
      "outputs": [
        {
          "name": "stdout",
          "output_type": "stream",
          "text": [
            "mse_scle 최종값: 1858302.0\n",
            "mse_macle 최종값: 598062.0\n"
          ]
        }
      ],
      "source": [
        "# 최종 MSE 출력\n",
        "print(\"mse_scle 최종값: \"+ str(mse_val(y,predict_result_s,)))\n",
        "print(\"mse_macle 최종값: \"+ str(mse_val(y,predict_result_ma)))"
      ]
    },
    {
      "cell_type": "markdown",
      "id": "a1f9b4d9",
      "metadata": {
        "id": "a1f9b4d9"
      },
      "source": [
        "# 스클보다 마클의 오차가 적으므로 더 정확한 예측을 했다고 할 수 있다."
      ]
    },
    {
      "cell_type": "code",
      "execution_count": null,
      "id": "8e7d3b64",
      "metadata": {
        "id": "8e7d3b64"
      },
      "outputs": [],
      "source": [
        "# 최소제곱법 사용해 최적화된 선형회귀 방정식 세우기\n",
        "# 최소 제곱근 공식으로 기울기 a와 y 절편 b의 값 구하기\n",
        "# 모든 원소의 평균 구하는 함수 mean()\n",
        "mx = np.mean(x)\n",
        "my = np.mean(y)"
      ]
    },
    {
      "cell_type": "code",
      "execution_count": null,
      "id": "b4909231",
      "metadata": {
        "id": "b4909231"
      },
      "outputs": [],
      "source": [
        "# 최소 제곱근 기울기 a 구하는 공식 중 분모 구하기\n",
        "# 본모 = (x의 각 원소-x의 평균)^2 의 합\n",
        "divisor = sum([(mx - i)**2 for i in x])"
      ]
    },
    {
      "cell_type": "code",
      "execution_count": null,
      "id": "0370d9ba",
      "metadata": {
        "id": "0370d9ba"
      },
      "outputs": [],
      "source": [
        "# 최소 제곱근 기울기 a 구하는 공식 중 분자 구하기\n",
        "# 본자 = (x 편차 * y 편차)의 합\n",
        "\n",
        "# 분자 구하는 함수 지정\n",
        "def top(x,mx,y,my):\n",
        "    d=0;\n",
        "    for i in range(len(x)):\n",
        "        d += (x[i] - mx)*(y[i] - my)\n",
        "    return  d\n",
        "dividend = top(x,mx,y,my)"
      ]
    },
    {
      "cell_type": "code",
      "execution_count": null,
      "id": "377cba3b",
      "metadata": {
        "id": "377cba3b",
        "outputId": "cc7c611b-4521-45f5-e36b-5a7a3906f6f9"
      },
      "outputs": [
        {
          "name": "stdout",
          "output_type": "stream",
          "text": [
            "분모 =  20.0\n",
            "분자 =  -8560.0\n"
          ]
        }
      ],
      "source": [
        "# 결과 값 출력\n",
        "print(\"분모 = \",divisor)\n",
        "print(\"분자 = \",dividend)"
      ]
    },
    {
      "cell_type": "code",
      "execution_count": null,
      "id": "206256d4",
      "metadata": {
        "id": "206256d4"
      },
      "outputs": [],
      "source": [
        "# 기울기 구하기\n",
        "a = dividend / divisor"
      ]
    },
    {
      "cell_type": "code",
      "execution_count": null,
      "id": "e9a4182d",
      "metadata": {
        "id": "e9a4182d"
      },
      "outputs": [],
      "source": [
        "# y 절편 b 구하기\n",
        "b = my - (mx*a)"
      ]
    },
    {
      "cell_type": "code",
      "execution_count": null,
      "id": "a2296375",
      "metadata": {
        "id": "a2296375",
        "outputId": "b17fd909-691e-4fd0-bb7a-69a915377513"
      },
      "outputs": [
        {
          "name": "stdout",
          "output_type": "stream",
          "text": [
            "기울기 a = -428.0\n",
            "y 절편 b = 6047.0\n"
          ]
        }
      ],
      "source": [
        "# 출력으로 확인\n",
        "print(\"기울기 a =\", a)\n",
        "print(\"y 절편 b =\", b)"
      ]
    },
    {
      "cell_type": "markdown",
      "id": "29aebadd",
      "metadata": {
        "id": "29aebadd"
      },
      "source": [
        "## 최소 제곱법을 사용해 \n",
        "# y = -428x + 6047 \n",
        "## 이라는 선형회귀 방정식을 도출할 수 있다. 추가적으로 오차를 아래와 같이 구할 수 있다."
      ]
    },
    {
      "cell_type": "code",
      "execution_count": null,
      "id": "29d39df5",
      "metadata": {
        "id": "29d39df5"
      },
      "outputs": [],
      "source": [
        "opti = [-428,6047]\n",
        "\n",
        "def p_opti(x):\n",
        "    return opti[0]*x + opti[1]"
      ]
    },
    {
      "cell_type": "code",
      "execution_count": null,
      "id": "17902b60",
      "metadata": {
        "id": "17902b60"
      },
      "outputs": [],
      "source": [
        "predict_result = []"
      ]
    },
    {
      "cell_type": "code",
      "execution_count": null,
      "id": "dec1164a",
      "metadata": {
        "id": "dec1164a",
        "outputId": "124eff8e-1cb0-4ecc-8ec6-9c656641c622"
      },
      "outputs": [
        {
          "name": "stdout",
          "output_type": "stream",
          "text": [
            "월=3, 정보량=5580, 예측 정보량=4763\n",
            "월=5, 정보량=2984, 예측 정보량=3907\n",
            "월=7, 정보량=2446, 예측 정보량=3051\n",
            "월=9, 정보량=2906, 예측 정보량=2195\n"
          ]
        }
      ],
      "source": [
        "# 모든 x의 값을 한 번씩 대입 => predict_result 리스트 완성\n",
        "for i in range(len(x)):\n",
        "    predict_result.append(p_opti(x[i]))    \n",
        "    print(\"월=%.f, 정보량=%.f, 예측 정보량=%.f\" %(x[i],y[i],p_opti(x[i])))"
      ]
    },
    {
      "cell_type": "code",
      "execution_count": null,
      "id": "d7c52a08",
      "metadata": {
        "id": "d7c52a08",
        "outputId": "866dbf8b-eb95-410a-820c-d6949a78d1dc"
      },
      "outputs": [
        {
          "name": "stdout",
          "output_type": "stream",
          "text": [
            "mse 최종값: 597741.0\n"
          ]
        }
      ],
      "source": [
        "# 최종 MSE 출력\n",
        "print(\"mse 최종값: \"+ str(mse_val(predict_result,y)))"
      ]
    },
    {
      "cell_type": "code",
      "execution_count": null,
      "id": "26aa2ce1",
      "metadata": {
        "id": "26aa2ce1"
      },
      "outputs": [],
      "source": [
        ""
      ]
    }
  ],
  "metadata": {
    "kernelspec": {
      "display_name": "Python 3",
      "language": "python",
      "name": "python3"
    },
    "language_info": {
      "codemirror_mode": {
        "name": "ipython",
        "version": 3
      },
      "file_extension": ".py",
      "mimetype": "text/x-python",
      "name": "python",
      "nbconvert_exporter": "python",
      "pygments_lexer": "ipython3",
      "version": "3.8.8"
    },
    "colab": {
      "name": "ch3_quiz_code.ipynb",
      "provenance": []
    }
  },
  "nbformat": 4,
  "nbformat_minor": 5
}
